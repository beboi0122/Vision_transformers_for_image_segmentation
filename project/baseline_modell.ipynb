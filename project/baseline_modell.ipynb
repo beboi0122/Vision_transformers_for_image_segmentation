{
 "cells": [
  {
   "cell_type": "markdown",
   "id": "12f94d30",
   "metadata": {},
   "source": [
    "# Imports"
   ]
  },
  {
   "cell_type": "code",
   "execution_count": null,
   "id": "initial_id",
   "metadata": {
    "ExecuteTime": {
     "end_time": "2024-11-03T17:48:05.316502Z",
     "start_time": "2024-11-03T17:47:59.454613Z"
    },
    "collapsed": true
   },
   "outputs": [],
   "source": [
    "import gc\n",
    "from operator import concat\n",
    "import kagglehub\n",
    "import kagglehub.config\n",
    "import json\n",
    "import os\n",
    "import cv2\n",
    "import numpy as np\n",
    "import matplotlib.pyplot as plt\n",
    "import pandas as pd\n",
    "import pytorch_lightning as pl\n",
    "import torch\n",
    "import torch.nn as nn\n",
    "import torchmetrics\n",
    "from sentry_sdk.utils import epoch\n",
    "from torch.xpu import device\n",
    "from torchmetrics.functional import precision\n",
    "\n",
    "import wandb\n",
    "import pytorch_lightning.loggers as wandb_logger\n",
    "from torchvision.models.segmentation import fcn_resnet50, deeplabv3_resnet50\n",
    "from RoadDataLoader import RoadDataLoader"
   ]
  },
  {
   "cell_type": "markdown",
   "id": "cb1da9ed",
   "metadata": {},
   "source": [
    "# Download"
   ]
  },
  {
   "cell_type": "code",
   "execution_count": null,
   "id": "ead30fbba0f0c53d",
   "metadata": {
    "ExecuteTime": {
     "end_time": "2024-11-03T17:48:05.330402Z",
     "start_time": "2024-11-03T17:48:05.324897Z"
    }
   },
   "outputs": [],
   "source": [
    "# get kaggle credentials file from ./kaggle.json\n",
    "with open(\"./kaggle.json\", \"r\") as f:\n",
    "    kaggle_json = json.load(f)\n",
    "kaggel_username = kaggle_json[\"username\"]\n",
    "kaggel_key = kaggle_json[\"key\"]"
   ]
  },
  {
   "cell_type": "code",
   "execution_count": null,
   "id": "6075279f90aa321d",
   "metadata": {
    "ExecuteTime": {
     "end_time": "2024-11-02T20:30:00.716058Z",
     "start_time": "2024-11-02T20:30:00.711334Z"
    }
   },
   "outputs": [],
   "source": [
    "kagglehub.config.set_kaggle_credentials(kaggel_username, kaggel_key)"
   ]
  },
  {
   "cell_type": "code",
   "execution_count": null,
   "id": "6133440ec03dbfcb",
   "metadata": {
    "ExecuteTime": {
     "end_time": "2024-11-02T20:33:05.679921Z",
     "start_time": "2024-11-02T20:30:01.716521Z"
    }
   },
   "outputs": [],
   "source": [
    "# Download latest version\n",
    "path = kagglehub.dataset_download(\"payne18/road-detection-dataset-with-masks\")\n",
    "# make data folder if it does not exist\n",
    "if not os.path.exists(\"./data\"):\n",
    "    os.mkdir(\"./data\")\n",
    "# Move data folder to ./data\n",
    "os.system(f\"mv {path} ./data/road-detection-dataset-with-masks\")\n",
    "# remove empty folder\n",
    "folder_to_remove = path.split(\"payne18/road-detection-dataset-with-masks\")[0] \n",
    "os.system((f\"rm -r {folder_to_remove}\"))"
   ]
  },
  {
   "cell_type": "markdown",
   "id": "5a8f4e2d5082548d",
   "metadata": {},
   "source": [
    "# Lightning module"
   ]
  },
  {
   "cell_type": "code",
   "execution_count": null,
   "id": "15422de852b10f4b",
   "metadata": {
    "ExecuteTime": {
     "end_time": "2024-11-03T17:48:05.393526Z",
     "start_time": "2024-11-03T17:48:05.388275Z"
    }
   },
   "outputs": [],
   "source": [
    "def dice_score(pred, target, smooth=1e-4):\n",
    "    pred = torch.sigmoid(pred)\n",
    "    intersection = (pred * target).sum()\n",
    "    union = pred.sum() + target.sum()\n",
    "    dice = (2 * intersection + smooth) / (union + smooth)\n",
    "    return dice\n",
    "\n",
    "def iou_score(pred, target, smooth=1e-4):\n",
    "    pred = torch.sigmoid(pred)\n",
    "    intersection = (pred * target).sum()\n",
    "    union = pred.sum() + target.sum() - intersection\n",
    "    iou = (intersection + smooth) / (union + smooth)\n",
    "    return iou\n"
   ]
  },
  {
   "cell_type": "code",
   "execution_count": null,
   "id": "3dc00119c0c04f42",
   "metadata": {
    "ExecuteTime": {
     "end_time": "2024-11-03T17:48:05.660222Z",
     "start_time": "2024-11-03T17:48:05.650425Z"
    }
   },
   "outputs": [],
   "source": [
    "class RoadSegmentationModule(pl.LightningModule):\n",
    "    def __init__(self, model, loss_fn, optimizer, only_last_layer=False, weight_decay=0.01, lr=1e-3):\n",
    "        super().__init__()\n",
    "        self.model = model\n",
    "        self.loss_fn = loss_fn\n",
    "        self.precision_fn = torchmetrics.Precision(task=\"binary\")\n",
    "        self.optimizer = optimizer\n",
    "        self.lr = lr\n",
    "        self.only_last_layer = only_last_layer\n",
    "        self.weight_decay = weight_decay\n",
    "        \n",
    "    def forward(self, x):\n",
    "        return self.model(x)\n",
    "    \n",
    "    def training_step(self, batch, batch_idx):\n",
    "        x, y = batch\n",
    "        pred = self(x)\n",
    "        if y.shape != pred.shape:\n",
    "            pred = pred.squeeze(1)\n",
    "        loss = self.loss_fn(pred, y)\n",
    "        precision = self.precision_fn(pred, y)\n",
    "        dice = dice_score(pred, y)\n",
    "        iou = iou_score(pred, y)\n",
    "        \n",
    "        self.log(\"train_loss\", loss, prog_bar=True, on_step=True, on_epoch=True)\n",
    "        self.log(\"train_precision\", precision, prog_bar=True, on_step=True, on_epoch=True)\n",
    "        self.log(\"train_dice\", dice, prog_bar=True, on_step=True, on_epoch=True)\n",
    "        self.log(\"train_iou\", iou, prog_bar=True, on_step=True, on_epoch=True)\n",
    "        \n",
    "        return loss\n",
    "    \n",
    "    def validation_step(self, batch, batch_idx):\n",
    "        x, y = batch\n",
    "        pred = self(x)\n",
    "        if y.shape != pred.shape:\n",
    "            pred = pred.squeeze(1)\n",
    "        loss = self.loss_fn(pred, y)\n",
    "        precision = self.precision_fn(pred, y)\n",
    "        dice = dice_score(pred, y)\n",
    "        iou = iou_score(pred, y)\n",
    "        \n",
    "        self.log(\"val_loss\", loss, prog_bar=True, on_step=True, on_epoch=True)\n",
    "        self.log(\"val_precision\", precision, prog_bar=True, on_step=True, on_epoch=True)\n",
    "        self.log(\"val_dice\", dice, prog_bar=True, on_step=True, on_epoch=True)\n",
    "        self.log(\"val_iou\", iou, prog_bar=True, on_step=True, on_epoch=True)\n",
    "        \n",
    "        return loss\n",
    "    \n",
    "    def configure_optimizers(self):\n",
    "        if self.optimizer == \"Adam\":\n",
    "            if self.only_last_layer:\n",
    "                opt = torch.optim.Adam(filter(lambda p: p.requires_grad, self.model.parameters()), lr=self.lr)\n",
    "            else:\n",
    "                opt = torch.optim.Adam(self.model.parameters(), lr=self.lr)\n",
    "        elif self.optimizer == \"AdamW\":\n",
    "            if self.only_last_layer:\n",
    "                opt = torch.optim.AdamW(filter(lambda p: p.requires_grad, self.model.parameters()), lr=self.lr, weight_decay=self.weight_decay)\n",
    "            else:\n",
    "                opt = torch.optim.AdamW(self.model.parameters(), lr=self.lr, weight_decay=self.weight_decay)\n",
    "        else:\n",
    "            raise ValueError(\"Optimizer not implemented in RoadSegmentationModule\")\n",
    "        return opt\n"
   ]
  },
  {
   "cell_type": "markdown",
   "id": "d92089dfb2ed1c0d",
   "metadata": {},
   "source": [
    "# Baseline models"
   ]
  },
  {
   "cell_type": "code",
   "execution_count": null,
   "id": "701e071ac108a64d",
   "metadata": {
    "ExecuteTime": {
     "end_time": "2024-11-03T17:48:05.721562Z",
     "start_time": "2024-11-03T17:48:05.713472Z"
    }
   },
   "outputs": [],
   "source": [
    "class DeepLabV3Model(torch.nn.Module):\n",
    "    def __init__(self, pretrained=False):\n",
    "        super().__init__()\n",
    "        self.model = deeplabv3_resnet50(pretrained=pretrained)\n",
    "        \n",
    "        self.model.classifier[4] = nn.Conv2d(\n",
    "            in_channels=self.model.classifier[4].in_channels,\n",
    "            out_channels=1,\n",
    "            kernel_size=self.model.classifier[4].kernel_size,\n",
    "            stride=self.model.classifier[4].stride,\n",
    "            padding=self.model.classifier[4].padding\n",
    "        )\n",
    "        if pretrained:\n",
    "            for param in self.model.parameters():\n",
    "                param.requires_grad = False\n",
    "            \n",
    "            # Csak az utolsó réteg paramétereinek engedélyezése a tanításra\n",
    "            for param in self.model.classifier[4].parameters():\n",
    "                param.requires_grad = True\n",
    "        \n",
    "    def forward(self, x):\n",
    "        return self.model(x)[\"out\"]"
   ]
  },
  {
   "cell_type": "code",
   "execution_count": null,
   "id": "2f62b3f2c7ecb453",
   "metadata": {
    "ExecuteTime": {
     "end_time": "2024-11-03T17:48:05.774961Z",
     "start_time": "2024-11-03T17:48:05.768692Z"
    }
   },
   "outputs": [],
   "source": [
    "class FCNR50Model(torch.nn.Module):\n",
    "    def __init__(self, pretrained=False):\n",
    "        super().__init__()\n",
    "        self.model = fcn_resnet50(pretrained=pretrained)\n",
    "        \n",
    "        self.model.classifier[4] = nn.Conv2d(\n",
    "            in_channels=self.model.classifier[4].in_channels,\n",
    "            out_channels=1,\n",
    "            kernel_size=self.model.classifier[4].kernel_size,\n",
    "            stride=self.model.classifier[4].stride,\n",
    "            padding=self.model.classifier[4].padding\n",
    "        )\n",
    "        \n",
    "        if pretrained:\n",
    "            for param in self.model.parameters():\n",
    "                param.requires_grad = False\n",
    "            \n",
    "           \n",
    "            for param in self.model.classifier[4].parameters():\n",
    "                param.requires_grad = True\n",
    "        \n",
    "        \n",
    "    def forward(self, x):\n",
    "        return self.model(x)[\"out\"]"
   ]
  },
  {
   "cell_type": "code",
   "execution_count": null,
   "id": "e5edf9457297ce34",
   "metadata": {
    "ExecuteTime": {
     "end_time": "2024-11-03T17:48:05.833577Z",
     "start_time": "2024-11-03T17:48:05.824866Z"
    }
   },
   "outputs": [],
   "source": [
    "class UNET2D(nn.Module):\n",
    "    def __init__(self, in_channels, out_channels, chanel_list=[8, 16, 32, 64]):\n",
    "        super(UNET2D, self).__init__()\n",
    "        self.down_blocks = nn.ModuleList()\n",
    "        self.up_blocks = nn.ModuleList()\n",
    "        self.in_channels = in_channels\n",
    "        self.out_channels = out_channels\n",
    "\n",
    "        for out_channel in chanel_list:\n",
    "            self.down_blocks.append(\n",
    "                nn.Sequential(\n",
    "                    nn.Conv2d(self.in_channels, out_channel, 3, padding=1),\n",
    "                    nn.BatchNorm2d(out_channel),\n",
    "                    nn.ReLU(),\n",
    "                    nn.Conv2d(out_channel, out_channel, 3, padding=1),\n",
    "                    nn.BatchNorm2d(out_channel),\n",
    "                    nn.ReLU()\n",
    "                )\n",
    "            )\n",
    "            self.in_channels = out_channel\n",
    "\n",
    "        for out_channel in reversed(chanel_list):\n",
    "            self.up_blocks.append(\n",
    "                nn.ConvTranspose2d(out_channel * 2, out_channel, 2, 2)\n",
    "            )\n",
    "            self.up_blocks.append(\n",
    "                nn.Sequential(\n",
    "                    nn.Conv2d(out_channel * 2, out_channel, 3, padding=1),\n",
    "                    nn.BatchNorm2d(out_channel),\n",
    "                    nn.ReLU(),\n",
    "                    nn.Conv2d(out_channel, out_channel, 3, padding=1),\n",
    "                    nn.BatchNorm2d(out_channel),\n",
    "                    nn.ReLU()\n",
    "                )\n",
    "            )\n",
    "            self.in_channels = out_channel\n",
    "\n",
    "            self.bottleneck = nn.Sequential(\n",
    "                nn.Conv2d(chanel_list[-1], chanel_list[-1]*2, 3, padding=1),\n",
    "                nn.BatchNorm2d(chanel_list[-1]*2),\n",
    "                nn.ReLU(),\n",
    "                nn.Conv2d(chanel_list[-1]*2, chanel_list[-1]*2, 3, padding=1),\n",
    "                nn.BatchNorm2d(chanel_list[-1]*2),\n",
    "                nn.ReLU()\n",
    "            )\n",
    "\n",
    "            self.final_block = nn.Conv2d(chanel_list[0], out_channels, 1)\n",
    "\n",
    "    def forward(self, x):\n",
    "        skip_connections = []\n",
    "        for block in self.down_blocks:\n",
    "            x = block(x)\n",
    "            skip_connections.append(x)\n",
    "            x = nn.MaxPool2d(2, 2)(x)\n",
    "\n",
    "        x = self.bottleneck(x)\n",
    "        skip_connections = skip_connections[::-1]\n",
    "\n",
    "\n",
    "        for idx in range(0, len(self.up_blocks), 2):\n",
    "            x = self.up_blocks[idx](x)\n",
    "            skip_connection = skip_connections[idx // 2]\n",
    "\n",
    "            if x.shape != skip_connection.shape:\n",
    "                x = nn.functional.interpolate(x, size=skip_connection.shape[2:], mode='bilinear')\n",
    "\n",
    "            concat_skip = torch.cat((skip_connection, x), dim=1)\n",
    "            x = self.up_blocks[idx + 1](concat_skip)\n",
    "\n",
    "        return self.final_block(x)"
   ]
  },
  {
   "cell_type": "markdown",
   "id": "2137b97c652f43c1",
   "metadata": {},
   "source": [
    "# Load Data"
   ]
  },
  {
   "cell_type": "code",
   "execution_count": null,
   "id": "9c405d6276110b46",
   "metadata": {
    "ExecuteTime": {
     "end_time": "2024-11-03T17:48:07.484015Z",
     "start_time": "2024-11-03T17:48:07.480894Z"
    }
   },
   "outputs": [],
   "source": [
    "data_path = \"./data/road-detection-dataset-with-masks/deepglobe-road-extraction-dataset\"\n",
    "metadata_path = \"./data/road-detection-dataset-with-masks/deepglobe-road-extraction-dataset/metadata.csv\""
   ]
  },
  {
   "cell_type": "code",
   "execution_count": null,
   "id": "2ca61d45fc394f71",
   "metadata": {
    "ExecuteTime": {
     "end_time": "2024-11-03T17:48:08.292139Z",
     "start_time": "2024-11-03T17:48:08.274497Z"
    }
   },
   "outputs": [],
   "source": [
    "# open metadata\n",
    "metadata = pd.read_csv(metadata_path)\n",
    "print(f\"All data: {metadata.shape[0]}\")"
   ]
  },
  {
   "cell_type": "code",
   "execution_count": null,
   "id": "43e4dfdf5641c96c",
   "metadata": {
    "ExecuteTime": {
     "end_time": "2024-11-03T17:48:09.224097Z",
     "start_time": "2024-11-03T17:48:09.189708Z"
    }
   },
   "outputs": [],
   "source": [
    "metadata = metadata[metadata[\"split\"] == \"train\"]\n",
    "print(f\"Data without validation and test: {metadata.shape[0]}\")\n",
    "metadata[\"sat_image_path\"] = metadata[\"sat_image_path\"].apply(lambda x: os.path.join(data_path, x))\n",
    "metadata[\"mask_path\"] = metadata[\"mask_path\"].apply(lambda x: os.path.join(data_path, x))\n",
    "metadata.head()"
   ]
  },
  {
   "cell_type": "markdown",
   "id": "56f8032b51f617d3",
   "metadata": {},
   "source": [
    "# Training"
   ]
  },
  {
   "cell_type": "code",
   "execution_count": null,
   "id": "4187207c395d3a29",
   "metadata": {
    "ExecuteTime": {
     "end_time": "2024-11-03T17:48:11.142594Z",
     "start_time": "2024-11-03T17:48:11.137933Z"
    }
   },
   "outputs": [],
   "source": [
    "def dice_loss(pred, target, smooth=1e-4):\n",
    "    pred = torch.sigmoid(pred)\n",
    "    intersection = (pred * target).sum()\n",
    "    union = pred.sum() + target.sum()\n",
    "    dice = 1 - (2 * intersection + smooth) / (union + smooth)\n",
    "    return dice\n",
    "\n",
    "def combined_loss(pred, target, alpha=0.5):\n",
    "    bce = nn.BCEWithLogitsLoss()(pred, target)\n",
    "    dice = dice_loss(pred, target)\n",
    "    return alpha * bce + (1 - alpha) * dice"
   ]
  },
  {
   "cell_type": "code",
   "execution_count": null,
   "id": "e8100fb8d4dea9c7",
   "metadata": {
    "ExecuteTime": {
     "end_time": "2024-11-03T17:48:11.680452Z",
     "start_time": "2024-11-03T17:48:11.676419Z"
    }
   },
   "outputs": [],
   "source": [
    "# hyperparameters\n",
    "batch_size = 8\n",
    "optimizer = \"Adam\"\n",
    "lr = 1e-4\n",
    "weight_decay = 0.01\n",
    "epochs = 10\n",
    "loss_fn = combined_loss\n",
    "accelerator = \"auto\"\n",
    "pretrained = False\n",
    "image_size = 512\n",
    "num_workers = 8"
   ]
  },
  {
   "cell_type": "code",
   "execution_count": null,
   "id": "d3af3b8feea31297",
   "metadata": {
    "ExecuteTime": {
     "end_time": "2024-11-03T17:48:12.334306Z",
     "start_time": "2024-11-03T17:48:12.301017Z"
    }
   },
   "outputs": [],
   "source": [
    "dataLoader = RoadDataLoader(metadata, batch_size=batch_size, image_size=image_size, num_workers=num_workers)\n",
    "# dataLoader.setup()\n",
    "dataLoader.train_data = pd.read_csv(\"./metadata/traindata.csv\", index_col=0)\n",
    "dataLoader.val_data = pd.read_csv(\"./metadata/valdata.csv\", index_col=0)\n",
    "dataLoader.test_data = pd.read_csv(\"./metadata/testdata.csv\", index_col=0)\n",
    "dataLoader.train_data.head()"
   ]
  },
  {
   "cell_type": "code",
   "execution_count": null,
   "id": "23c6e99681fa9f2b",
   "metadata": {
    "ExecuteTime": {
     "end_time": "2024-11-03T17:48:14.233957Z",
     "start_time": "2024-11-03T17:48:14.231067Z"
    }
   },
   "outputs": [],
   "source": [
    "train_data_loader = dataLoader.train_dataloader()\n",
    "val_data_loader = dataLoader.val_dataloader()"
   ]
  },
  {
   "cell_type": "code",
   "execution_count": null,
   "id": "fb7a9912ad2d4ff3",
   "metadata": {
    "ExecuteTime": {
     "end_time": "2024-11-03T17:44:52.388791Z",
     "start_time": "2024-11-03T17:44:52.386952Z"
    }
   },
   "outputs": [],
   "source": [
    "# save dataLoader.traindata, dataLoader.valdata and dataLoader.testdata to csv\n",
    "# dataLoader.train_data.to_csv(\"./metadata/traindata.csv\")\n",
    "# dataLoader.val_data.to_csv(\"./metadata/valdata.csv\")\n",
    "# dataLoader.test_data.to_csv(\"./metadata/testdata.csv\")"
   ]
  },
  {
   "cell_type": "markdown",
   "id": "90ca013f6798a195",
   "metadata": {},
   "source": [
    "# Training with DeepLabV3Model"
   ]
  },
  {
   "cell_type": "code",
   "execution_count": null,
   "id": "4c6c405258dec45b",
   "metadata": {
    "ExecuteTime": {
     "end_time": "2024-11-02T21:29:58.391748Z",
     "start_time": "2024-11-02T21:29:56.792429Z"
    }
   },
   "outputs": [],
   "source": [
    "!chmod 777 -r\n",
    "wandb.login()\n",
    "model = DeepLabV3Model(pretrained=pretrained)\n",
    "module = RoadSegmentationModule(model, loss_fn, optimizer)\n",
    "log = wandb_logger.WandbLogger(project=\"road-segmentation\", log_model=\"all\", name=\"DeepLabV3Model\")\n",
    "checkpoint_callback = pl.callbacks.ModelCheckpoint(monitor=\"val_loss\", mode=\"min\")\n",
    "\n",
    "trainer = pl.Trainer(\n",
    "    max_epochs=epochs,\n",
    "    accelerator=\"auto\",\n",
    "    logger=log,\n",
    "    callbacks=[checkpoint_callback]\n",
    ")"
   ]
  },
  {
   "cell_type": "code",
   "execution_count": null,
   "id": "dd1f99f20528d1c7",
   "metadata": {
    "ExecuteTime": {
     "end_time": "2024-11-03T00:04:46.186339Z",
     "start_time": "2024-11-02T21:30:04.323617Z"
    }
   },
   "outputs": [],
   "source": [
    "trainer.fit(module, train_data_loader, val_data_loader)\n"
   ]
  },
  {
   "cell_type": "code",
   "execution_count": null,
   "id": "c0117f4b31e2dccd",
   "metadata": {
    "ExecuteTime": {
     "end_time": "2024-11-03T00:35:18.893691Z",
     "start_time": "2024-11-03T00:35:16.824784Z"
    }
   },
   "outputs": [],
   "source": [
    "wandb.finish()\n",
    "depplabv3_model_path = checkpoint_callback.best_model_path\n",
    "print(depplabv3_model_path)"
   ]
  },
  {
   "cell_type": "code",
   "execution_count": null,
   "id": "d845f34ecd098f50",
   "metadata": {
    "ExecuteTime": {
     "end_time": "2024-11-03T00:37:33.470938Z",
     "start_time": "2024-11-03T00:37:32.136179Z"
    }
   },
   "outputs": [],
   "source": [
    "# save the best model as DeepLabV3_best_model.cpkt\n",
    "!cp {depplabv3_model_path} ./models//DeepLabV3_best_model.cpkt"
   ]
  },
  {
   "cell_type": "markdown",
   "id": "6bcfa0cb8c278ca",
   "metadata": {},
   "source": [
    "# Training with UNET2D"
   ]
  },
  {
   "cell_type": "code",
   "execution_count": null,
   "id": "6283d0d5a9273fcd",
   "metadata": {
    "ExecuteTime": {
     "end_time": "2024-11-03T14:30:26.567313Z",
     "start_time": "2024-11-03T14:30:26.563900Z"
    }
   },
   "outputs": [],
   "source": [
    "dataLoader.batch_size = 8\n",
    "train_data_loader = dataLoader.train_dataloader()\n",
    "val_data_loader = dataLoader.val_dataloader()"
   ]
  },
  {
   "cell_type": "code",
   "execution_count": null,
   "id": "643d6a374ffdf000",
   "metadata": {
    "ExecuteTime": {
     "end_time": "2024-11-03T14:30:29.276776Z",
     "start_time": "2024-11-03T14:30:28.386443Z"
    }
   },
   "outputs": [],
   "source": [
    "wandb.login()\n",
    "model = UNET2D(3, 1, chanel_list=[8, 16, 32, 64])\n",
    "module = RoadSegmentationModule(model, loss_fn, optimizer)\n",
    "log = wandb_logger.WandbLogger(project=\"road-segmentation\", log_model=\"all\", name=\"UNET2D\")\n",
    "checkpoint_callback = pl.callbacks.ModelCheckpoint(monitor=\"val_loss\", mode=\"min\")\n",
    "\n",
    "trainer = pl.Trainer(\n",
    "    max_epochs=10,\n",
    "    accelerator=\"auto\",\n",
    "    logger=log,\n",
    "    callbacks=[checkpoint_callback]\n",
    ")"
   ]
  },
  {
   "cell_type": "code",
   "execution_count": null,
   "id": "a81de4f918fd6574",
   "metadata": {
    "ExecuteTime": {
     "end_time": "2024-11-03T14:47:34.030137Z",
     "start_time": "2024-11-03T14:30:31.021544Z"
    }
   },
   "outputs": [],
   "source": [
    "trainer.fit(module, train_data_loader, val_data_loader)"
   ]
  },
  {
   "cell_type": "code",
   "execution_count": null,
   "id": "f1645371d8962ae8",
   "metadata": {
    "ExecuteTime": {
     "end_time": "2024-11-03T14:47:53.298413Z",
     "start_time": "2024-11-03T14:47:51.237220Z"
    }
   },
   "outputs": [],
   "source": [
    "wandb.finish()\n",
    "unet2d_model_path = checkpoint_callback.best_model_path\n",
    "print(unet2d_model_path)"
   ]
  },
  {
   "cell_type": "code",
   "execution_count": null,
   "id": "3b4ebe200e2da0c3",
   "metadata": {
    "ExecuteTime": {
     "end_time": "2024-11-03T14:47:56.616881Z",
     "start_time": "2024-11-03T14:47:55.718644Z"
    }
   },
   "outputs": [],
   "source": [
    "# save the best model as UNET2D_best_model.cpkt\n",
    "!cp {unet2d_model_path} ./models/UNET2D_best_model.cpkt"
   ]
  },
  {
   "cell_type": "markdown",
   "id": "5d2ed3b871d8ba25",
   "metadata": {},
   "source": [
    "# Testing models"
   ]
  },
  {
   "cell_type": "code",
   "execution_count": null,
   "id": "119d1ec336b09175",
   "metadata": {
    "ExecuteTime": {
     "end_time": "2024-11-03T17:49:25.337269Z",
     "start_time": "2024-11-03T17:49:25.332517Z"
    }
   },
   "outputs": [],
   "source": [
    "def show_result(x, y, pred, title, sigmoid=True):\n",
    "    if sigmoid:\n",
    "        pred = torch.sigmoid(pred)\n",
    "    fig, ax = plt.subplots(4, 3, figsize=(15, 25))\n",
    "    fig.suptitle(title)\n",
    "    for i in range(4):\n",
    "        # denormalize x\n",
    "        image = x[i] * 0.5 + 0.5\n",
    "        ax[i, 0].imshow(image.permute(1, 2, 0))\n",
    "        ax[i, 0].set_title(\"Input\")\n",
    "        ax[i, 0].axis(\"off\")\n",
    "        ax[i, 1].imshow(y[i].squeeze(0))\n",
    "        ax[i, 1].set_title(\"Target\")\n",
    "        ax[i, 1].axis(\"off\")\n",
    "        ax[i, 2].imshow(pred[i].squeeze(0).detach().numpy())\n",
    "        ax[i, 2].set_title(\"Prediction\")\n",
    "        ax[i, 2].axis(\"off\")\n",
    "    #tight layout\n",
    "    plt.tight_layout()\n",
    "    plt.show()"
   ]
  },
  {
   "cell_type": "code",
   "execution_count": null,
   "id": "a05feb1fd88596c5",
   "metadata": {
    "ExecuteTime": {
     "end_time": "2024-11-03T17:49:25.837128Z",
     "start_time": "2024-11-03T17:49:25.830581Z"
    }
   },
   "outputs": [],
   "source": [
    "import time\n",
    "\n",
    "def eval_model(model, dataLoader, device, model_name='model'):\n",
    "    model.to(device)\n",
    "    model.eval()\n",
    "    \n",
    "    precision = torchmetrics.Precision(task=\"binary\").to(device)\n",
    "    accuracy = torchmetrics.Accuracy(task='binary').to(device)\n",
    "    \n",
    "    total_IoU, total_dice, total_precision, total_accuracy, total_ABD = 0, 0, 0, 0, 0\n",
    "    num_batches = len(dataLoader)\n",
    "    \n",
    "    inference_time = []\n",
    "    with torch.no_grad():\n",
    "        for x, y in dataLoader:\n",
    "            x = x.to(device)\n",
    "            y = y.to(device)\n",
    "            \n",
    "            start = time.time()\n",
    "            pred = model(x)\n",
    "            torch.cuda.synchronize()\n",
    "            end = time.time()\n",
    "            \n",
    "            inference_time.append(end - start)\n",
    "            \n",
    "            total_IoU += iou_score(pred, y)\n",
    "            total_dice += dice_score(pred, y)\n",
    "            \n",
    "            total_precision += precision(pred, y)\n",
    "            total_accuracy += accuracy(pred, y)\n",
    " \n",
    "    avg_IoU = total_IoU / num_batches\n",
    "    avg_dice = total_dice / num_batches\n",
    "    avg_precision = total_precision / num_batches\n",
    "    avg_accuracy = total_accuracy / num_batches\n",
    "    avg_inference_time = sum(inference_time) / len(inference_time)\n",
    "    \n",
    "    print(f\"{model_name} IoU: {avg_IoU}\")\n",
    "    print(f\"{model_name} Dice: {avg_dice}\")\n",
    "    print(f\"{model_name} Precision: {avg_precision}\")\n",
    "    print(f\"{model_name} Accuracy: {avg_accuracy}\")\n",
    "    print(f\"{model_name} Inference time: {avg_inference_time}\")\n",
    "    return avg_IoU, avg_dice, avg_precision, avg_accuracy, avg_inference_time"
   ]
  },
  {
   "cell_type": "code",
   "execution_count": null,
   "id": "6bf551cd9f083383",
   "metadata": {
    "ExecuteTime": {
     "end_time": "2024-11-03T17:49:26.490823Z",
     "start_time": "2024-11-03T17:49:26.455620Z"
    }
   },
   "outputs": [],
   "source": [
    "dataLoader = RoadDataLoader(metadata, batch_size=4, image_size=512, num_workers=8)\n",
    "dataLoader.train_data = pd.read_csv(\"./metadata/traindata.csv\", index_col=0)\n",
    "dataLoader.val_data = pd.read_csv(\"./metadata/valdata.csv\", index_col=0)\n",
    "dataLoader.test_data = pd.read_csv(\"./metadata/testdata.csv\", index_col=0)"
   ]
  },
  {
   "cell_type": "code",
   "execution_count": null,
   "id": "52dd701b32a6e181",
   "metadata": {
    "ExecuteTime": {
     "end_time": "2024-11-03T17:49:27.901092Z",
     "start_time": "2024-11-03T17:49:27.271613Z"
    }
   },
   "outputs": [],
   "source": [
    "test_dataLoader = dataLoader.test_dataloader()\n",
    "\n",
    "for batch in test_dataLoader:\n",
    "    x, y = batch\n",
    "    break\n"
   ]
  },
  {
   "cell_type": "code",
   "execution_count": null,
   "id": "bc5e586c21ea1bb5",
   "metadata": {
    "ExecuteTime": {
     "end_time": "2024-11-03T18:57:03.130786Z",
     "start_time": "2024-11-03T18:56:49.315391Z"
    }
   },
   "outputs": [],
   "source": [
    "deeplabv3_model_path = \"./models/DeepLabV3_best_model.cpkt\"\n",
    "unet2d_model_path = \"./models/UNET2D_best_model.cpkt\"\n",
    "\n",
    "if not os.path.exists(\"./models\"):\n",
    "    os.mkdir(\"./models\")\n",
    "#check if file exists\n",
    "if not os.path.exists(deeplabv3_model_path):\n",
    "    !curl -L -o ./models/DeepLabV3_best_model.cpkt https://huggingface.co/beboi0122/Vision_transformers_for_image_segmentation_HF/resolve/main/DeepLabV3_best_model.cpkt\n",
    "if not os.path.exists(unet2d_model_path):\n",
    "    !curl -L -o ./models/UNET2D_best_model.cpkt https://huggingface.co/beboi0122/Vision_transformers_for_image_segmentation_HF/resolve/main/UNET2D_best_model.cpkt\n"
   ]
  },
  {
   "cell_type": "markdown",
   "id": "d31fd98a0850950f",
   "metadata": {},
   "source": [
    "### DeepLabV3Model evaluation"
   ]
  },
  {
   "cell_type": "code",
   "execution_count": null,
   "id": "f34e9eda6f2d8bb3",
   "metadata": {
    "ExecuteTime": {
     "end_time": "2024-11-03T16:36:13.648986Z",
     "start_time": "2024-11-03T16:36:12.779659Z"
    }
   },
   "outputs": [],
   "source": [
    "deeplabv3_state_dict = torch.load(deeplabv3_model_path)[\"state_dict\"]\n",
    "deeplabv3_state_dict = {k.replace(\"model.model.\", \"model.\"): v for k, v in deeplabv3_state_dict.items()}\n",
    "deeplabv3_model = DeepLabV3Model(pretrained=False)\n",
    "deeplabv3_model.load_state_dict(deeplabv3_state_dict, strict=False)\n",
    "deeplabv3_module = RoadSegmentationModule(deeplabv3_model, combined_loss, optimizer)"
   ]
  },
  {
   "cell_type": "code",
   "execution_count": null,
   "id": "c6c99cfb32def7ec",
   "metadata": {
    "ExecuteTime": {
     "end_time": "2024-11-03T16:36:15.083055Z",
     "start_time": "2024-11-03T16:36:15.025506Z"
    }
   },
   "outputs": [],
   "source": [
    "device = \"cuda\" if torch.cuda.is_available() else \"cpu\"\n",
    "deeplabv3_module.to(device)\n",
    "x = x.to(device)\n",
    "y = y.to(device)\n",
    "\n",
    "deeplabv3_module.eval()\n",
    "pred = deeplabv3_module(x)"
   ]
  },
  {
   "cell_type": "code",
   "execution_count": null,
   "id": "8215cb634d073d4c",
   "metadata": {
    "ExecuteTime": {
     "end_time": "2024-11-03T16:36:17.952001Z",
     "start_time": "2024-11-03T16:36:16.151124Z"
    }
   },
   "outputs": [],
   "source": [
    "show_result(x.cpu(), y.cpu(), pred.cpu(), \"DeepLabV3\", sigmoid=True)"
   ]
  },
  {
   "cell_type": "code",
   "execution_count": null,
   "id": "42923df8fc3d80f3",
   "metadata": {
    "ExecuteTime": {
     "end_time": "2024-11-03T16:36:50.064645Z",
     "start_time": "2024-11-03T16:36:18.044001Z"
    }
   },
   "outputs": [],
   "source": [
    "test_dataLoader = dataLoader.test_dataloader()\n",
    "DLV3_avg_IoU, DLV3_avg_dice, DLV3_avg_precision, DLV3_avg_accuracy, DLV3_avg_inference_time = eval_model(deeplabv3_module, test_dataLoader, device, \"DeepLabV3\")"
   ]
  },
  {
   "cell_type": "code",
   "execution_count": null,
   "id": "3ce8970539bfb862",
   "metadata": {
    "ExecuteTime": {
     "end_time": "2024-11-03T16:36:50.365575Z",
     "start_time": "2024-11-03T16:36:50.177529Z"
    }
   },
   "outputs": [],
   "source": [
    "# show result\n",
    "metrics = ['IoU', 'Dice', 'Precision', 'Accuracy']\n",
    "values = [DLV3_avg_IoU.cpu(), DLV3_avg_dice.cpu(), DLV3_avg_precision.cpu(), DLV3_avg_accuracy.cpu()]\n",
    "\n",
    "plt.figure(figsize=(10, 6))\n",
    "plt.bar(metrics, values, color='royalblue')\n",
    "\n",
    "plt.title('DeepLabV3Model metrics')\n",
    "plt.xlabel('Metrics')\n",
    "plt.ylabel('Values')\n",
    "plt.ylim(0, 1)\n",
    "\n",
    "for i, v in enumerate(values):\n",
    "    plt.text(i, v + 0.01, f'{v:.2f}', ha='center', va='center')\n",
    "\n",
    "\n",
    "plt.show()"
   ]
  },
  {
   "cell_type": "markdown",
   "id": "fdb4f0216f03d8f8",
   "metadata": {},
   "source": [
    "### UNET2D evaluation"
   ]
  },
  {
   "cell_type": "code",
   "execution_count": null,
   "id": "419a5295fd50ee87",
   "metadata": {
    "ExecuteTime": {
     "end_time": "2024-11-03T18:54:00.224960Z",
     "start_time": "2024-11-03T18:54:00.129685Z"
    }
   },
   "outputs": [],
   "source": [
    "unet2d_state_dict = torch.load(unet2d_model_path)[\"state_dict\"]\n",
    "unet2d_state_dict = {k.replace(\"model.\", \"\"): v for k, v in unet2d_state_dict.items()}\n",
    "unet2d_model = UNET2D(3, 1, chanel_list=[8, 16, 32, 64])\n",
    "unet2d_model.load_state_dict(unet2d_state_dict, strict=False)\n",
    "unet2d_module = RoadSegmentationModule(unet2d_model, loss_fn, optimizer)\n"
   ]
  },
  {
   "cell_type": "code",
   "execution_count": null,
   "id": "c0b157f413183122",
   "metadata": {
    "ExecuteTime": {
     "end_time": "2024-11-03T18:54:01.772704Z",
     "start_time": "2024-11-03T18:54:01.751769Z"
    }
   },
   "outputs": [],
   "source": [
    "device = \"cuda\" if torch.cuda.is_available() else \"cpu\"\n",
    "unet2d_module.to(device)\n",
    "x = x.to(device)\n",
    "y = y.to(device)\n",
    "\n",
    "unet2d_module.eval()\n",
    "pred = unet2d_module(x)"
   ]
  },
  {
   "cell_type": "code",
   "execution_count": null,
   "id": "57ca26b07bfea383",
   "metadata": {
    "ExecuteTime": {
     "end_time": "2024-11-03T18:54:05.030988Z",
     "start_time": "2024-11-03T18:54:02.844869Z"
    }
   },
   "outputs": [],
   "source": [
    "show_result(x.cpu(), y.cpu(), pred.cpu(), \"UNET2D\", sigmoid=True)"
   ]
  },
  {
   "cell_type": "code",
   "execution_count": null,
   "id": "50f29d214747d9c1",
   "metadata": {
    "ExecuteTime": {
     "end_time": "2024-11-03T17:49:55.345463Z",
     "start_time": "2024-11-03T17:49:48.272939Z"
    }
   },
   "outputs": [],
   "source": [
    "test_dataLoader = dataLoader.test_dataloader()\n",
    "UNET2D_avg_IoU, UNET2D_avg_dice, UNET2D_avg_precision, UNET2D_avg_accuracy, UNET2D_avg_inference_time = eval_model(unet2d_module, test_dataLoader, device, \"UNET2D\")"
   ]
  },
  {
   "cell_type": "code",
   "execution_count": null,
   "id": "213d8b9a7e4d4827",
   "metadata": {
    "ExecuteTime": {
     "end_time": "2024-11-03T16:36:59.006260Z",
     "start_time": "2024-11-03T16:36:58.831501Z"
    }
   },
   "outputs": [],
   "source": [
    "# show results\n",
    "metrics = ['IoU', 'Dice', 'Precision', 'Accuracy']\n",
    "values = [UNET2D_avg_IoU.cpu(), UNET2D_avg_dice.cpu(), UNET2D_avg_precision.cpu(), UNET2D_avg_accuracy.cpu()]\n",
    "\n",
    "plt.figure(figsize=(10, 6))\n",
    "plt.bar(metrics, values, color='orange')\n",
    "\n",
    "plt.title('UNET2D metrics')\n",
    "plt.xlabel('Metrics')\n",
    "plt.ylabel('Values')\n",
    "plt.ylim(0, 1.1)\n",
    "\n",
    "for i, v in enumerate(values):\n",
    "    plt.text(i, v + 0.01, f'{v:.2f}', ha='center', va='center')\n",
    "    \n",
    "plt.show()"
   ]
  },
  {
   "cell_type": "markdown",
   "id": "7d502e7688f6f89b",
   "metadata": {},
   "source": [
    "### Comparison"
   ]
  },
  {
   "cell_type": "code",
   "execution_count": null,
   "id": "938aaa5db078d479",
   "metadata": {
    "ExecuteTime": {
     "end_time": "2024-11-03T16:36:59.309534Z",
     "start_time": "2024-11-03T16:36:59.082665Z"
    }
   },
   "outputs": [],
   "source": [
    "metrics = ['IoU', 'Dice', 'Precision', 'Accuracy']\n",
    "u2_values = [UNET2D_avg_IoU.cpu(), UNET2D_avg_dice.cpu(), UNET2D_avg_precision.cpu(), UNET2D_avg_accuracy.cpu()]\n",
    "d3_values = [DLV3_avg_IoU.cpu(), DLV3_avg_dice.cpu(), DLV3_avg_precision.cpu(), DLV3_avg_accuracy.cpu()]\n",
    "\n",
    "x = np.arange(len(metrics))\n",
    "width = 0.35\n",
    "\n",
    "fig, ax = plt.subplots(figsize=(10, 6))\n",
    "bar1 = ax.bar(x - width/2, d3_values, width, label='DeepLabV3', color='royalblue')\n",
    "bar2 = ax.bar(x + width/2, u2_values, width, label='UNET2D', color='orange')\n",
    "\n",
    "ax.set_xlabel('Metrics')\n",
    "ax.set_ylabel('Values')\n",
    "ax.set_title('Comparison of models')\n",
    "ax.set_ylim(0, 1.1)\n",
    "ax.set_xticks(x)\n",
    "ax.set_xticklabels(metrics)\n",
    "ax.legend()\n",
    "\n",
    "def add_label(bars):\n",
    "    for bar in bars:\n",
    "        height = bar.get_height()\n",
    "        ax.annotate(f'{height:.2f}',\n",
    "                    xy=(bar.get_x() + bar.get_width() / 2, height),\n",
    "                    xytext=(0, 3),  # 3 ponttal feljebb\n",
    "                    textcoords=\"offset points\",\n",
    "                    ha='center', va='bottom')\n",
    "        \n",
    "add_label(bar1)\n",
    "add_label(bar2)\n",
    "\n",
    "\n",
    "plt.show()"
   ]
  },
  {
   "cell_type": "code",
   "execution_count": null,
   "id": "3e59c22d4b450c2",
   "metadata": {
    "ExecuteTime": {
     "end_time": "2024-11-03T16:36:59.552302Z",
     "start_time": "2024-11-03T16:36:59.400395Z"
    }
   },
   "outputs": [],
   "source": [
    "# compare inference time\n",
    "inference_times = [DLV3_avg_inference_time, UNET2D_avg_inference_time]\n",
    "models = ['DeepLabV3', 'UNET2D']\n",
    "\n",
    "plt.figure(figsize=(10, 6))\n",
    "plt.bar(models, inference_times, color=['royalblue', 'orange'])\n",
    "\n",
    "plt.title('Inference time comparison')\n",
    "plt.ylabel('Time [s]')\n",
    "plt.xlabel('Models')\n",
    "plt.ylim(0, 0.25)\n",
    "\n",
    "for i, v in enumerate(inference_times):\n",
    "    plt.text(i, v + 0.01, f'{v:.3f}', ha='center', va='center')\n",
    "\n",
    "\n",
    "plt.show()"
   ]
  }
 ],
 "metadata": {
  "kernelspec": {
   "display_name": "Python 3",
   "language": "python",
   "name": "python3"
  },
  "language_info": {
   "codemirror_mode": {
    "name": "ipython",
    "version": 3
   },
   "file_extension": ".py",
   "mimetype": "text/x-python",
   "name": "python",
   "nbconvert_exporter": "python",
   "pygments_lexer": "ipython3",
   "version": "3.12.7"
  }
 },
 "nbformat": 4,
 "nbformat_minor": 5
}
